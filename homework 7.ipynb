{
 "cells": [
  {
   "cell_type": "markdown",
   "id": "49f6c993",
   "metadata": {},
   "source": [
    "# HOMEWORK 6 MARIA ARQUES"
   ]
  },
  {
   "cell_type": "code",
   "execution_count": null,
   "id": "0d2d4964",
   "metadata": {},
   "outputs": [],
   "source": [
    "#• Q1: Randomly divide data into train/test as 80/20 (set.seed=1).\n",
    "#• Q2: Build a NN model with 1 hidden layer of 30 neurons, sigmoid activation function.\n",
    "#• Q3: Build a deep NN model with multiple hidden layers (of your choice) and sigmoid activation function.\n",
    "#• Q4: Build 5 other classification models and compare with the 2 previous NN models."
   ]
  },
  {
   "cell_type": "code",
   "execution_count": 1,
   "id": "0b145c49",
   "metadata": {},
   "outputs": [
    {
     "name": "stdout",
     "output_type": "stream",
     "text": [
      "package 'neuralnet' successfully unpacked and MD5 sums checked\n",
      "\n",
      "The downloaded binary packages are in\n",
      "\tC:\\Users\\marquesrubio\\AppData\\Local\\Temp\\RtmpMjRuN3\\downloaded_packages\n"
     ]
    },
    {
     "name": "stderr",
     "output_type": "stream",
     "text": [
      "Warning message:\n",
      "\"package 'neuralnet' was built under R version 3.6.3\""
     ]
    }
   ],
   "source": [
    "install.packages(\"neuralnet\")\n",
    "library(neuralnet) "
   ]
  },
  {
   "cell_type": "code",
   "execution_count": 2,
   "id": "ca533757",
   "metadata": {},
   "outputs": [
    {
     "name": "stderr",
     "output_type": "stream",
     "text": [
      "randomForest 4.6-14\n",
      "Type rfNews() to see new features/changes/bug fixes.\n",
      "Warning message:\n",
      "\"package 'e1071' was built under R version 3.6.3\""
     ]
    },
    {
     "name": "stdout",
     "output_type": "stream",
     "text": [
      "package 'mlr' successfully unpacked and MD5 sums checked\n",
      "\n",
      "The downloaded binary packages are in\n",
      "\tC:\\Users\\marquesrubio\\AppData\\Local\\Temp\\RtmpMjRuN3\\downloaded_packages\n"
     ]
    },
    {
     "name": "stderr",
     "output_type": "stream",
     "text": [
      "Warning message:\n",
      "\"package 'mlr' was built under R version 3.6.3\"Loading required package: ParamHelpers\n",
      "Warning message:\n",
      "\"package 'ParamHelpers' was built under R version 3.6.3\"Registered S3 methods overwritten by 'ggplot2':\n",
      "  method         from \n",
      "  [.quosures     rlang\n",
      "  c.quosures     rlang\n",
      "  print.quosures rlang\n",
      "Warning message: 'mlr' is in 'maintenance-only' mode since July 2019.\n",
      "Future development will only happen in 'mlr3'\n",
      "(<https://mlr3.mlr-org.com>). Due to the focus on 'mlr3' there might be\n",
      "uncaught bugs meanwhile in {mlr} - please consider switching.\n",
      "\n",
      "Attaching package: 'mlr'\n",
      "\n",
      "The following object is masked from 'package:e1071':\n",
      "\n",
      "    impute\n",
      "\n"
     ]
    }
   ],
   "source": [
    "library(randomForest) # Random Forest\n",
    "library(e1071)         # SVM\n",
    "install.packages(\"mlr\")\n",
    "library(mlr)"
   ]
  },
  {
   "cell_type": "code",
   "execution_count": 3,
   "id": "82a00442",
   "metadata": {},
   "outputs": [],
   "source": [
    "data= read.csv(\"C:/Users/marquesrubio/OneDrive - IESEG/Documents/Statistical and machine learning/SML_Section7/SML_Section7/data/bankruptcy_prediction/data.csv\")"
   ]
  },
  {
   "cell_type": "code",
   "execution_count": 4,
   "id": "269d989e",
   "metadata": {},
   "outputs": [
    {
     "data": {
      "text/html": [
       "<table>\n",
       "<thead><tr><th scope=col>Bankrupt.</th><th scope=col>ROA.C..before.interest.and.depreciation.before.interest</th><th scope=col>ROA.A..before.interest.and...after.tax</th><th scope=col>ROA.B..before.interest.and.depreciation.after.tax</th><th scope=col>Operating.Gross.Margin</th><th scope=col>Realized.Sales.Gross.Margin</th><th scope=col>Operating.Profit.Rate</th><th scope=col>Pre.tax.net.Interest.Rate</th><th scope=col>After.tax.net.Interest.Rate</th><th scope=col>Non.industry.income.and.expenditure.revenue</th><th scope=col>...</th><th scope=col>Net.Income.to.Total.Assets</th><th scope=col>Total.assets.to.GNP.price</th><th scope=col>No.credit.Interval</th><th scope=col>Gross.Profit.to.Sales</th><th scope=col>Net.Income.to.Stockholder.s.Equity</th><th scope=col>Liability.to.Equity</th><th scope=col>Degree.of.Financial.Leverage..DFL.</th><th scope=col>Interest.Coverage.Ratio..Interest.expense.to.EBIT.</th><th scope=col>Net.Income.Flag</th><th scope=col>Equity.to.Liability</th></tr></thead>\n",
       "<tbody>\n",
       "\t<tr><td>1          </td><td>0.3705943  </td><td>0.4243894  </td><td>0.4057498  </td><td>0.6014572  </td><td>0.6014572  </td><td>0.9989692  </td><td>0.7968871  </td><td>0.8088094  </td><td>0.3026464  </td><td>...        </td><td>0.7168453  </td><td>0.009219440</td><td>0.6228790  </td><td>0.6014533  </td><td>0.8278902  </td><td>0.2902019  </td><td>0.02660063 </td><td>0.5640501  </td><td>1          </td><td>0.01646874 </td></tr>\n",
       "\t<tr><td>1          </td><td>0.4642909  </td><td>0.5382141  </td><td>0.5167300  </td><td>0.6102351  </td><td>0.6102351  </td><td>0.9989460  </td><td>0.7973802  </td><td>0.8093007  </td><td>0.3035564  </td><td>...        </td><td>0.7952971  </td><td>0.008323302</td><td>0.6236517  </td><td>0.6102365  </td><td>0.8399693  </td><td>0.2838460  </td><td>0.26457682 </td><td>0.5701749  </td><td>1          </td><td>0.02079431 </td></tr>\n",
       "\t<tr><td>1          </td><td>0.4260713  </td><td>0.4990188  </td><td>0.4722951  </td><td>0.6014500  </td><td>0.6013635  </td><td>0.9988574  </td><td>0.7964034  </td><td>0.8083875  </td><td>0.3020352  </td><td>...        </td><td>0.7746697  </td><td>0.040002853</td><td>0.6238410  </td><td>0.6014493  </td><td>0.8367743  </td><td>0.2901885  </td><td>0.02655472 </td><td>0.5637061  </td><td>1          </td><td>0.01647411 </td></tr>\n",
       "\t<tr><td>1          </td><td>0.3998440  </td><td>0.4512647  </td><td>0.4577333  </td><td>0.5835411  </td><td>0.5835411  </td><td>0.9986997  </td><td>0.7969670  </td><td>0.8089656  </td><td>0.3033495  </td><td>...        </td><td>0.7395545  </td><td>0.003252475</td><td>0.6229287  </td><td>0.5835376  </td><td>0.8346971  </td><td>0.2817212  </td><td>0.02669663 </td><td>0.5646634  </td><td>1          </td><td>0.02398233 </td></tr>\n",
       "\t<tr><td>1          </td><td>0.4650222  </td><td>0.5384322  </td><td>0.5222978  </td><td>0.5987835  </td><td>0.5987835  </td><td>0.9989731  </td><td>0.7973661  </td><td>0.8093037  </td><td>0.3034750  </td><td>...        </td><td>0.7950159  </td><td>0.003877563</td><td>0.6235207  </td><td>0.5987815  </td><td>0.8399727  </td><td>0.2785138  </td><td>0.02475185 </td><td>0.5756166  </td><td>1          </td><td>0.03549020 </td></tr>\n",
       "\t<tr><td>1          </td><td>0.3886803  </td><td>0.4151766  </td><td>0.4191338  </td><td>0.5901714  </td><td>0.5902507  </td><td>0.9987581  </td><td>0.7969032  </td><td>0.8087706  </td><td>0.3031158  </td><td>...        </td><td>0.7104205  </td><td>0.005277875</td><td>0.6226046  </td><td>0.5901723  </td><td>0.8299390  </td><td>0.2850871  </td><td>0.02667537 </td><td>0.5645383  </td><td>1          </td><td>0.01953448 </td></tr>\n",
       "</tbody>\n",
       "</table>\n"
      ],
      "text/latex": [
       "\\begin{tabular}{r|llllllllllllllllllllllllllllllllllllllllllllllllllllllllllllllllllllllllllllllllllllllllllllllll}\n",
       " Bankrupt. & ROA.C..before.interest.and.depreciation.before.interest & ROA.A..before.interest.and...after.tax & ROA.B..before.interest.and.depreciation.after.tax & Operating.Gross.Margin & Realized.Sales.Gross.Margin & Operating.Profit.Rate & Pre.tax.net.Interest.Rate & After.tax.net.Interest.Rate & Non.industry.income.and.expenditure.revenue & ... & Net.Income.to.Total.Assets & Total.assets.to.GNP.price & No.credit.Interval & Gross.Profit.to.Sales & Net.Income.to.Stockholder.s.Equity & Liability.to.Equity & Degree.of.Financial.Leverage..DFL. & Interest.Coverage.Ratio..Interest.expense.to.EBIT. & Net.Income.Flag & Equity.to.Liability\\\\\n",
       "\\hline\n",
       "\t 1           & 0.3705943   & 0.4243894   & 0.4057498   & 0.6014572   & 0.6014572   & 0.9989692   & 0.7968871   & 0.8088094   & 0.3026464   & ...         & 0.7168453   & 0.009219440 & 0.6228790   & 0.6014533   & 0.8278902   & 0.2902019   & 0.02660063  & 0.5640501   & 1           & 0.01646874 \\\\\n",
       "\t 1           & 0.4642909   & 0.5382141   & 0.5167300   & 0.6102351   & 0.6102351   & 0.9989460   & 0.7973802   & 0.8093007   & 0.3035564   & ...         & 0.7952971   & 0.008323302 & 0.6236517   & 0.6102365   & 0.8399693   & 0.2838460   & 0.26457682  & 0.5701749   & 1           & 0.02079431 \\\\\n",
       "\t 1           & 0.4260713   & 0.4990188   & 0.4722951   & 0.6014500   & 0.6013635   & 0.9988574   & 0.7964034   & 0.8083875   & 0.3020352   & ...         & 0.7746697   & 0.040002853 & 0.6238410   & 0.6014493   & 0.8367743   & 0.2901885   & 0.02655472  & 0.5637061   & 1           & 0.01647411 \\\\\n",
       "\t 1           & 0.3998440   & 0.4512647   & 0.4577333   & 0.5835411   & 0.5835411   & 0.9986997   & 0.7969670   & 0.8089656   & 0.3033495   & ...         & 0.7395545   & 0.003252475 & 0.6229287   & 0.5835376   & 0.8346971   & 0.2817212   & 0.02669663  & 0.5646634   & 1           & 0.02398233 \\\\\n",
       "\t 1           & 0.4650222   & 0.5384322   & 0.5222978   & 0.5987835   & 0.5987835   & 0.9989731   & 0.7973661   & 0.8093037   & 0.3034750   & ...         & 0.7950159   & 0.003877563 & 0.6235207   & 0.5987815   & 0.8399727   & 0.2785138   & 0.02475185  & 0.5756166   & 1           & 0.03549020 \\\\\n",
       "\t 1           & 0.3886803   & 0.4151766   & 0.4191338   & 0.5901714   & 0.5902507   & 0.9987581   & 0.7969032   & 0.8087706   & 0.3031158   & ...         & 0.7104205   & 0.005277875 & 0.6226046   & 0.5901723   & 0.8299390   & 0.2850871   & 0.02667537  & 0.5645383   & 1           & 0.01953448 \\\\\n",
       "\\end{tabular}\n"
      ],
      "text/markdown": [
       "\n",
       "| Bankrupt. | ROA.C..before.interest.and.depreciation.before.interest | ROA.A..before.interest.and...after.tax | ROA.B..before.interest.and.depreciation.after.tax | Operating.Gross.Margin | Realized.Sales.Gross.Margin | Operating.Profit.Rate | Pre.tax.net.Interest.Rate | After.tax.net.Interest.Rate | Non.industry.income.and.expenditure.revenue | ... | Net.Income.to.Total.Assets | Total.assets.to.GNP.price | No.credit.Interval | Gross.Profit.to.Sales | Net.Income.to.Stockholder.s.Equity | Liability.to.Equity | Degree.of.Financial.Leverage..DFL. | Interest.Coverage.Ratio..Interest.expense.to.EBIT. | Net.Income.Flag | Equity.to.Liability |\n",
       "|---|---|---|---|---|---|---|---|---|---|---|---|---|---|---|---|---|---|---|---|---|\n",
       "| 1           | 0.3705943   | 0.4243894   | 0.4057498   | 0.6014572   | 0.6014572   | 0.9989692   | 0.7968871   | 0.8088094   | 0.3026464   | ...         | 0.7168453   | 0.009219440 | 0.6228790   | 0.6014533   | 0.8278902   | 0.2902019   | 0.02660063  | 0.5640501   | 1           | 0.01646874  |\n",
       "| 1           | 0.4642909   | 0.5382141   | 0.5167300   | 0.6102351   | 0.6102351   | 0.9989460   | 0.7973802   | 0.8093007   | 0.3035564   | ...         | 0.7952971   | 0.008323302 | 0.6236517   | 0.6102365   | 0.8399693   | 0.2838460   | 0.26457682  | 0.5701749   | 1           | 0.02079431  |\n",
       "| 1           | 0.4260713   | 0.4990188   | 0.4722951   | 0.6014500   | 0.6013635   | 0.9988574   | 0.7964034   | 0.8083875   | 0.3020352   | ...         | 0.7746697   | 0.040002853 | 0.6238410   | 0.6014493   | 0.8367743   | 0.2901885   | 0.02655472  | 0.5637061   | 1           | 0.01647411  |\n",
       "| 1           | 0.3998440   | 0.4512647   | 0.4577333   | 0.5835411   | 0.5835411   | 0.9986997   | 0.7969670   | 0.8089656   | 0.3033495   | ...         | 0.7395545   | 0.003252475 | 0.6229287   | 0.5835376   | 0.8346971   | 0.2817212   | 0.02669663  | 0.5646634   | 1           | 0.02398233  |\n",
       "| 1           | 0.4650222   | 0.5384322   | 0.5222978   | 0.5987835   | 0.5987835   | 0.9989731   | 0.7973661   | 0.8093037   | 0.3034750   | ...         | 0.7950159   | 0.003877563 | 0.6235207   | 0.5987815   | 0.8399727   | 0.2785138   | 0.02475185  | 0.5756166   | 1           | 0.03549020  |\n",
       "| 1           | 0.3886803   | 0.4151766   | 0.4191338   | 0.5901714   | 0.5902507   | 0.9987581   | 0.7969032   | 0.8087706   | 0.3031158   | ...         | 0.7104205   | 0.005277875 | 0.6226046   | 0.5901723   | 0.8299390   | 0.2850871   | 0.02667537  | 0.5645383   | 1           | 0.01953448  |\n",
       "\n"
      ],
      "text/plain": [
       "  Bankrupt. ROA.C..before.interest.and.depreciation.before.interest\n",
       "1 1         0.3705943                                              \n",
       "2 1         0.4642909                                              \n",
       "3 1         0.4260713                                              \n",
       "4 1         0.3998440                                              \n",
       "5 1         0.4650222                                              \n",
       "6 1         0.3886803                                              \n",
       "  ROA.A..before.interest.and...after.tax\n",
       "1 0.4243894                             \n",
       "2 0.5382141                             \n",
       "3 0.4990188                             \n",
       "4 0.4512647                             \n",
       "5 0.5384322                             \n",
       "6 0.4151766                             \n",
       "  ROA.B..before.interest.and.depreciation.after.tax Operating.Gross.Margin\n",
       "1 0.4057498                                         0.6014572             \n",
       "2 0.5167300                                         0.6102351             \n",
       "3 0.4722951                                         0.6014500             \n",
       "4 0.4577333                                         0.5835411             \n",
       "5 0.5222978                                         0.5987835             \n",
       "6 0.4191338                                         0.5901714             \n",
       "  Realized.Sales.Gross.Margin Operating.Profit.Rate Pre.tax.net.Interest.Rate\n",
       "1 0.6014572                   0.9989692             0.7968871                \n",
       "2 0.6102351                   0.9989460             0.7973802                \n",
       "3 0.6013635                   0.9988574             0.7964034                \n",
       "4 0.5835411                   0.9986997             0.7969670                \n",
       "5 0.5987835                   0.9989731             0.7973661                \n",
       "6 0.5902507                   0.9987581             0.7969032                \n",
       "  After.tax.net.Interest.Rate Non.industry.income.and.expenditure.revenue ...\n",
       "1 0.8088094                   0.3026464                                   ...\n",
       "2 0.8093007                   0.3035564                                   ...\n",
       "3 0.8083875                   0.3020352                                   ...\n",
       "4 0.8089656                   0.3033495                                   ...\n",
       "5 0.8093037                   0.3034750                                   ...\n",
       "6 0.8087706                   0.3031158                                   ...\n",
       "  Net.Income.to.Total.Assets Total.assets.to.GNP.price No.credit.Interval\n",
       "1 0.7168453                  0.009219440               0.6228790         \n",
       "2 0.7952971                  0.008323302               0.6236517         \n",
       "3 0.7746697                  0.040002853               0.6238410         \n",
       "4 0.7395545                  0.003252475               0.6229287         \n",
       "5 0.7950159                  0.003877563               0.6235207         \n",
       "6 0.7104205                  0.005277875               0.6226046         \n",
       "  Gross.Profit.to.Sales Net.Income.to.Stockholder.s.Equity Liability.to.Equity\n",
       "1 0.6014533             0.8278902                          0.2902019          \n",
       "2 0.6102365             0.8399693                          0.2838460          \n",
       "3 0.6014493             0.8367743                          0.2901885          \n",
       "4 0.5835376             0.8346971                          0.2817212          \n",
       "5 0.5987815             0.8399727                          0.2785138          \n",
       "6 0.5901723             0.8299390                          0.2850871          \n",
       "  Degree.of.Financial.Leverage..DFL.\n",
       "1 0.02660063                        \n",
       "2 0.26457682                        \n",
       "3 0.02655472                        \n",
       "4 0.02669663                        \n",
       "5 0.02475185                        \n",
       "6 0.02667537                        \n",
       "  Interest.Coverage.Ratio..Interest.expense.to.EBIT. Net.Income.Flag\n",
       "1 0.5640501                                          1              \n",
       "2 0.5701749                                          1              \n",
       "3 0.5637061                                          1              \n",
       "4 0.5646634                                          1              \n",
       "5 0.5756166                                          1              \n",
       "6 0.5645383                                          1              \n",
       "  Equity.to.Liability\n",
       "1 0.01646874         \n",
       "2 0.02079431         \n",
       "3 0.01647411         \n",
       "4 0.02398233         \n",
       "5 0.03549020         \n",
       "6 0.01953448         "
      ]
     },
     "metadata": {},
     "output_type": "display_data"
    }
   ],
   "source": [
    "head(data)"
   ]
  },
  {
   "cell_type": "code",
   "execution_count": 5,
   "id": "5619673b",
   "metadata": {},
   "outputs": [],
   "source": [
    "#Q1: Randomly divide data into train/test as 80/20 (set.seed=1)\n",
    "#split the data\n",
    "set.seed(1)\n",
    "train_set <- sample(nrow(data)*0.8)\n",
    "train <- data[train_set, ]\n",
    "test <- data[-train_set, ]"
   ]
  },
  {
   "cell_type": "code",
   "execution_count": 7,
   "id": "530d31ad",
   "metadata": {},
   "outputs": [
    {
     "name": "stderr",
     "output_type": "stream",
     "text": [
      "hidden: 30    thresh: 0.01    rep: 1/1    steps:    1000\tmin thresh: 45.0141876625878\n",
      "                                                    2000\tmin thresh: 45.0141876625878\n",
      "                                                    3000\tmin thresh: 45.0141876625878\n",
      "                                                    4000\tmin thresh: 45.0141876625878\n",
      "                                                    5000\tmin thresh: 45.0141876625878\n",
      "                                                    6000\tmin thresh: 45.0141876625878\n",
      "                                                    7000\tmin thresh: 45.0141876625878\n",
      "                                                    8000\tmin thresh: 45.0141876625878\n",
      "                                                    9000\tmin thresh: 45.0141876625878\n",
      "                                                   10000\tmin thresh: 45.0141876625878\n",
      "                                                   11000\tmin thresh: 45.0141876625878\n",
      "                                                   12000\tmin thresh: 45.0141876625878\n",
      "                                                   13000\tmin thresh: 45.0141876625878\n",
      "                                                   14000\tmin thresh: 45.0141876625878\n",
      "                                                   15000\tmin thresh: 45.0141876625878\n",
      "                                                   16000\tmin thresh: 45.0141876625878\n",
      "                                                   17000\tmin thresh: 45.0141876625878\n",
      "                                                   18000\tmin thresh: 45.0141876625878\n",
      "                                                   19000\tmin thresh: 45.0141876625878\n",
      "                                                   20000\tmin thresh: 45.0141876625878\n",
      "                                                   21000\tmin thresh: 45.0141876625878\n",
      "                                                   22000\tmin thresh: 45.0141876625878\n",
      "                                                   23000\tmin thresh: 45.0141876625878\n",
      "                                                   24000\tmin thresh: 45.0141876625878\n",
      "                                                   25000\tmin thresh: 45.0141876625878\n",
      "                                                   26000\tmin thresh: 43.9011052985024\n",
      "                                                   27000\tmin thresh: 43.9011052985024\n",
      "                                                   28000\tmin thresh: 43.9011052985024\n",
      "                                                   29000\tmin thresh: 43.9011052985024\n",
      "                                                   30000\tmin thresh: 43.9011052985024\n",
      "                                                   31000\tmin thresh: 43.9011052985024\n",
      "                                                   32000\tmin thresh: 43.9011052985024\n",
      "                                                   33000\tmin thresh: 43.9011052985024\n",
      "                                                   34000\tmin thresh: 29.8326702045625\n",
      "                                                   35000\tmin thresh: 29.8326702045625\n",
      "                                                   36000\tmin thresh: 29.8326702045625\n",
      "                                                   37000\tmin thresh: 29.8326702045625\n",
      "                                                   38000\tmin thresh: 29.8326702045625\n",
      "                                                   39000\tmin thresh: 29.8326702045625\n",
      "                                                   40000\tmin thresh: 29.8326702045625\n",
      "                                                   41000\tmin thresh: 29.8326702045625\n",
      "                                                   42000\tmin thresh: 29.8326702045625\n",
      "                                                   43000\tmin thresh: 29.8326702045625\n",
      "                                                   44000\tmin thresh: 29.8326702045625\n",
      "                                                   45000\tmin thresh: 29.8326702045625\n",
      "                                                   46000\tmin thresh: 29.8326702045625\n",
      "                                                   47000\tmin thresh: 29.8326702045625\n",
      "                                                   48000\tmin thresh: 29.8326702045625\n",
      "                                                   49000\tmin thresh: 29.8326702045625\n",
      "                                                   50000\tmin thresh: 29.8326702045625\n",
      "                                                   51000\tmin thresh: 29.8326702045625\n",
      "                                                   52000\tmin thresh: 29.8326702045625\n",
      "                                                   53000\tmin thresh: 29.8326702045625\n",
      "                                                   54000\tmin thresh: 29.8326702045625\n",
      "                                                   55000\tmin thresh: 29.8326702045625\n",
      "                                                   56000\tmin thresh: 29.8326702045625\n",
      "                                                   57000\tmin thresh: 29.8326702045625\n",
      "                                                   58000\tmin thresh: 29.8326702045625\n",
      "                                                   59000\tmin thresh: 29.8326702045625\n",
      "                                                   60000\tmin thresh: 29.8326702045625\n",
      "                                                   61000\tmin thresh: 29.8326702045625\n",
      "                                                   62000\tmin thresh: 29.8326702045625\n",
      "                                                   63000\tmin thresh: 29.8326702045625\n",
      "                                                   64000\tmin thresh: 29.8326702045625\n",
      "                                                   65000\tmin thresh: 29.8326702045625\n",
      "                                                   66000\tmin thresh: 29.8326702045625\n",
      "                                                   67000\tmin thresh: 29.8326702045625\n",
      "                                                   68000\tmin thresh: 29.8326702045625\n",
      "                                                   69000\tmin thresh: 29.8326702045625\n",
      "                                                   70000\tmin thresh: 29.8326702045625\n",
      "                                                   71000\tmin thresh: 29.8326702045625\n",
      "                                                   72000\tmin thresh: 29.8326702045625\n",
      "                                                   73000\tmin thresh: 29.8326702045625\n",
      "                                                   74000\tmin thresh: 29.8326702045625\n",
      "                                                   75000\tmin thresh: 29.8326702045625\n",
      "                                                   76000\tmin thresh: 29.8326702045625\n",
      "                                                   77000\tmin thresh: 29.8326702045625\n",
      "                                                   78000\tmin thresh: 29.8326702045625\n",
      "                                                   79000\tmin thresh: 29.8326702045625\n",
      "                                                   80000\tmin thresh: 29.8326702045625\n",
      "                                                   81000\tmin thresh: 29.8326702045625\n",
      "                                                   82000\tmin thresh: 29.8326702045625\n",
      "                                                   83000\tmin thresh: 29.8326702045625\n",
      "                                                   84000\tmin thresh: 29.8326702045625\n",
      "                                                   85000\tmin thresh: 29.8326702045625\n",
      "                                                   86000\tmin thresh: 29.8326702045625\n",
      "                                                   87000\tmin thresh: 29.8326702045625\n",
      "                                                   88000\tmin thresh: 29.8326702045625\n",
      "                                                   89000\tmin thresh: 29.8326702045625\n",
      "                                                   90000\tmin thresh: 29.8326702045625\n",
      "                                                   91000\tmin thresh: 29.8326702045625\n",
      "                                                   92000\tmin thresh: 29.8326702045625\n",
      "                                                   93000\tmin thresh: 29.8326702045625\n",
      "                                                   94000\tmin thresh: 29.8326702045625\n",
      "                                                   95000\tmin thresh: 29.8326702045625\n"
     ]
    },
    {
     "name": "stderr",
     "output_type": "stream",
     "text": [
      "                                                   96000\tmin thresh: 29.8326702045625\n",
      "                                                   97000\tmin thresh: 29.8326702045625\n",
      "                                                   98000\tmin thresh: 29.8326702045625\n",
      "                                                   99000\tmin thresh: 29.8326702045625\n",
      "                                                 stepmax\tmin thresh: 29.8326702045625\n",
      "Warning message:\n",
      "\"Algorithm did not converge in 1 of 1 repetition(s) within the stepmax.\""
     ]
    }
   ],
   "source": [
    "#Q2: Build a NN model with 1 hidden layer of 30 neurons, sigmoid activation function.\n",
    "\n",
    "nn_md <- neuralnet(Bankrupt.~.,          # The formula\n",
    "                   train,             # Training data\n",
    "                   hidden=c(30),  # Size of the hidden layers\n",
    "                   #stepmax=10000,        # Maximum training step before stopping\n",
    "                   rep=1,                 # Number of training repeat\n",
    "                   lifesign='full',       # Print during train\n",
    "                   algorithm='backprop',  # Algorithm to calculate the network (backpropagation)\n",
    "                   learningrate=0.01,     # Learning rate\n",
    "                   err.fct='ce',          # Error function, cross-entropy\n",
    "                   act.fct=\"logistic\",    # Function use to calculate the result (activation function)\n",
    "                   linear.output=F        # FALSE = apply activation function to output layer\n",
    "                  )"
   ]
  },
  {
   "cell_type": "code",
   "execution_count": 26,
   "id": "d59214b4",
   "metadata": {},
   "outputs": [
    {
     "name": "stderr",
     "output_type": "stream",
     "text": [
      "Warning message:\n",
      "\"Algorithm did not converge in 1 of 1 repetition(s) within the stepmax.\""
     ]
    }
   ],
   "source": [
    "nn_md<- neuralnet(Bankrupt.~.,train,hidden=c(30),act.fct=\"logistic\")"
   ]
  },
  {
   "cell_type": "code",
   "execution_count": 9,
   "id": "3829bc1e",
   "metadata": {
    "scrolled": true
   },
   "outputs": [
    {
     "name": "stderr",
     "output_type": "stream",
     "text": [
      "hidden: 10, 10    thresh: 0.01    rep: 1/1    steps:    1000\tmin thresh: 1.80255211800041\n",
      "                                                        2000\tmin thresh: 1.80255211800041\n",
      "                                                        3000\tmin thresh: 1.80255211800041\n",
      "                                                        4000\tmin thresh: 1.80255211800041\n",
      "                                                        5000\tmin thresh: 1.80255211800041\n",
      "                                                        6000\tmin thresh: 1.80255211800041\n",
      "                                                        7000\tmin thresh: 1.80255211800041\n",
      "                                                        8000\tmin thresh: 1.80255211800041\n",
      "                                                        9000\tmin thresh: 1.80255211800041\n",
      "                                                       10000\tmin thresh: 1.80255211800041\n",
      "                                                       11000\tmin thresh: 1.80255211800041\n",
      "                                                       12000\tmin thresh: 1.80255211800041\n",
      "                                                       13000\tmin thresh: 1.80255211800041\n",
      "                                                       14000\tmin thresh: 1.80255211800041\n",
      "                                                       15000\tmin thresh: 1.80255211800041\n",
      "                                                       16000\tmin thresh: 1.80255211800041\n",
      "                                                       17000\tmin thresh: 1.80255211800041\n",
      "                                                       18000\tmin thresh: 1.80255211800041\n",
      "                                                       19000\tmin thresh: 1.80255211800041\n",
      "                                                       20000\tmin thresh: 1.80255211800041\n",
      "                                                       21000\tmin thresh: 1.80255211800041\n",
      "                                                       22000\tmin thresh: 1.80255211800041\n",
      "                                                       23000\tmin thresh: 1.80255211800041\n",
      "                                                       24000\tmin thresh: 1.80255211800041\n",
      "                                                       25000\tmin thresh: 1.80255211800041\n",
      "                                                       26000\tmin thresh: 1.80255211800041\n",
      "                                                       27000\tmin thresh: 1.80255211800041\n",
      "                                                       28000\tmin thresh: 1.80255211800041\n",
      "                                                       29000\tmin thresh: 1.80255211800041\n",
      "                                                       30000\tmin thresh: 1.80255211800041\n",
      "                                                       31000\tmin thresh: 1.80255211800041\n",
      "                                                       32000\tmin thresh: 1.80255211800041\n",
      "                                                       33000\tmin thresh: 1.80255211800041\n",
      "                                                       34000\tmin thresh: 1.80255211800041\n",
      "                                                       35000\tmin thresh: 1.80255211800041\n",
      "                                                       36000\tmin thresh: 1.80255211800041\n",
      "                                                       37000\tmin thresh: 1.80255211800041\n",
      "                                                       38000\tmin thresh: 1.80255211800041\n",
      "                                                       39000\tmin thresh: 1.80255211800041\n",
      "                                                       40000\tmin thresh: 1.80255211800041\n",
      "                                                       41000\tmin thresh: 1.80255211800041\n",
      "                                                       42000\tmin thresh: 1.80255211800041\n",
      "                                                       43000\tmin thresh: 1.80255211800041\n",
      "                                                       44000\tmin thresh: 1.80255211800041\n",
      "                                                       45000\tmin thresh: 1.80255211800041\n",
      "                                                       46000\tmin thresh: 1.80255211800041\n",
      "                                                       47000\tmin thresh: 1.80255211800041\n",
      "                                                       48000\tmin thresh: 1.80255211800041\n",
      "                                                       49000\tmin thresh: 1.80255211800041\n",
      "                                                       50000\tmin thresh: 1.80255211800041\n",
      "                                                       51000\tmin thresh: 1.80255211800041\n",
      "                                                       52000\tmin thresh: 1.80255211800041\n",
      "                                                       53000\tmin thresh: 1.80255211800041\n",
      "                                                       54000\tmin thresh: 1.80255211800041\n",
      "                                                       55000\tmin thresh: 1.80255211800041\n",
      "                                                       56000\tmin thresh: 1.80255211800041\n",
      "                                                       57000\tmin thresh: 1.80255211800041\n",
      "                                                       58000\tmin thresh: 1.80255211800041\n",
      "                                                       59000\tmin thresh: 1.80255211800041\n",
      "                                                       60000\tmin thresh: 1.80255211800041\n",
      "                                                       61000\tmin thresh: 1.80255211800041\n",
      "                                                       62000\tmin thresh: 1.80255211800041\n",
      "                                                       63000\tmin thresh: 1.80255211800041\n",
      "                                                       64000\tmin thresh: 1.80255211800041\n",
      "                                                       65000\tmin thresh: 1.80255211800041\n",
      "                                                       66000\tmin thresh: 1.80255211800041\n",
      "                                                       67000\tmin thresh: 1.80255211800041\n",
      "                                                       68000\tmin thresh: 1.80255211800041\n",
      "                                                       69000\tmin thresh: 1.80255211800041\n",
      "                                                       70000\tmin thresh: 1.80255211800041\n",
      "                                                       71000\tmin thresh: 1.80255211800041\n",
      "                                                       72000\tmin thresh: 1.80255211800041\n",
      "                                                       73000\tmin thresh: 1.80255211800041\n",
      "                                                       74000\tmin thresh: 1.80255211800041\n",
      "                                                       75000\tmin thresh: 1.80255211800041\n",
      "                                                       76000\tmin thresh: 1.80255211800041\n",
      "                                                       77000\tmin thresh: 1.80255211800041\n",
      "                                                       78000\tmin thresh: 1.80255211800041\n",
      "                                                       79000\tmin thresh: 1.80255211800041\n",
      "                                                       80000\tmin thresh: 1.80255211800041\n",
      "                                                       81000\tmin thresh: 1.80255211800041\n",
      "                                                       82000\tmin thresh: 1.80255211800041\n",
      "                                                       83000\tmin thresh: 1.80255211800041\n",
      "                                                       84000\tmin thresh: 1.80255211800041\n",
      "                                                       85000\tmin thresh: 1.80255211800041\n",
      "                                                       86000\tmin thresh: 1.80255211800041\n",
      "                                                       87000\tmin thresh: 1.80255211800041\n",
      "                                                       88000\tmin thresh: 1.80255211800041\n",
      "                                                       89000\tmin thresh: 1.80255211800041\n",
      "                                                       90000\tmin thresh: 1.80255211800041\n",
      "                                                       91000\tmin thresh: 1.80255211800041\n"
     ]
    },
    {
     "name": "stderr",
     "output_type": "stream",
     "text": [
      "                                                       92000\tmin thresh: 1.80255211800041\n",
      "                                                       93000\tmin thresh: 1.80255211800041\n",
      "                                                       94000\tmin thresh: 1.80255211800041\n",
      "                                                       95000\tmin thresh: 1.80255211800041\n",
      "                                                       96000\tmin thresh: 1.80255211800041\n",
      "                                                       97000\tmin thresh: 1.80255211800041\n",
      "                                                       98000\tmin thresh: 1.80255211800041\n",
      "                                                       99000\tmin thresh: 1.80255211800041\n",
      "                                                     stepmax\tmin thresh: 1.80255211800041\n",
      "Warning message:\n",
      "\"Algorithm did not converge in 1 of 1 repetition(s) within the stepmax.\""
     ]
    }
   ],
   "source": [
    "#Q3: Build a deep NN model with multiple hidden layers (of your choice) and sigmoid activation function.\n",
    "nn_md <- neuralnet(Bankrupt.~.,          # The formula\n",
    "                   train,             # Training data\n",
    "                   hidden=c(10,10),  # Size of the hidden layers\n",
    "                   #stepmax=10000,        # Maximum training step before stopping\n",
    "                   rep=1,                 # Number of training repeat\n",
    "                   lifesign='full',       # Print during train\n",
    "                   algorithm='backprop',  # Algorithm to calculate the network (backpropagation)\n",
    "                   learningrate=0.01,     # Learning rate\n",
    "                   err.fct='ce',          # Error function, cross-entropy\n",
    "                   act.fct=\"logistic\",    # Function use to calculate the result (activation function)\n",
    "                   linear.output=F        # FALSE = apply activation function to output layer\n",
    "                  )"
   ]
  },
  {
   "cell_type": "code",
   "execution_count": 6,
   "id": "646aafee",
   "metadata": {},
   "outputs": [],
   "source": [
    "# Define the ML classification task\n",
    "train_task <- mlr::makeClassifTask(id ='MNIST_train', data=train, target='Bankrupt.')\n",
    "test_task <- mlr::makeClassifTask(id='MNIST_test', data=test, target='Bankrupt.')"
   ]
  },
  {
   "cell_type": "code",
   "execution_count": 7,
   "id": "765a6693",
   "metadata": {},
   "outputs": [
    {
     "data": {
      "text/html": [
       "<strong>acc:</strong> 0.983870967741935"
      ],
      "text/latex": [
       "\\textbf{acc:} 0.983870967741935"
      ],
      "text/markdown": [
       "**acc:** 0.983870967741935"
      ],
      "text/plain": [
       "     acc \n",
       "0.983871 "
      ]
     },
     "metadata": {},
     "output_type": "display_data"
    }
   ],
   "source": [
    "#Q4: Build 5 other classification models and compare with the 2 previous NN models.\n",
    "\n",
    "# k-Nearest Neighbor (k=50)\n",
    "learner <- makeLearner('classif.knn', k=50)\n",
    "model <- mlr::train(learner, train_task)\n",
    "pred_test <- predict(model, task=test_task)\n",
    "performance(pred_test, measures=acc)"
   ]
  },
  {
   "cell_type": "code",
   "execution_count": 8,
   "id": "80ba2472",
   "metadata": {},
   "outputs": [
    {
     "data": {
      "text/html": [
       "<strong>acc:</strong> 0.983870967741935"
      ],
      "text/latex": [
       "\\textbf{acc:} 0.983870967741935"
      ],
      "text/markdown": [
       "**acc:** 0.983870967741935"
      ],
      "text/plain": [
       "     acc \n",
       "0.983871 "
      ]
     },
     "metadata": {},
     "output_type": "display_data"
    }
   ],
   "source": [
    "# Decision Tree\n",
    "learner <- mlr::makeLearner('classif.rpart')  # Register a machine learning model\n",
    "model <- mlr::train(learner, train_task)\n",
    "pred_test <- predict(model, task=test_task)\n",
    "performance(pred_test, measures=acc)"
   ]
  },
  {
   "cell_type": "code",
   "execution_count": 9,
   "id": "d76d3a8b",
   "metadata": {},
   "outputs": [
    {
     "data": {
      "text/html": [
       "<strong>acc:</strong> 0.984604105571848"
      ],
      "text/latex": [
       "\\textbf{acc:} 0.984604105571848"
      ],
      "text/markdown": [
       "**acc:** 0.984604105571848"
      ],
      "text/plain": [
       "      acc \n",
       "0.9846041 "
      ]
     },
     "metadata": {},
     "output_type": "display_data"
    }
   ],
   "source": [
    "# Random Forest\n",
    "learner <- makeLearner('classif.randomForest')\n",
    "model <- mlr::train(learner, train_task)\n",
    "pred_test <- predict(model, task=test_task)\n",
    "performance(pred_test, measures=acc)"
   ]
  },
  {
   "cell_type": "code",
   "execution_count": 10,
   "id": "c020b2ad",
   "metadata": {},
   "outputs": [
    {
     "data": {
      "text/html": [
       "<strong>acc:</strong> 0.346041055718475"
      ],
      "text/latex": [
       "\\textbf{acc:} 0.346041055718475"
      ],
      "text/markdown": [
       "**acc:** 0.346041055718475"
      ],
      "text/plain": [
       "      acc \n",
       "0.3460411 "
      ]
     },
     "metadata": {},
     "output_type": "display_data"
    }
   ],
   "source": [
    "# SVM\n",
    "learner <- makeLearner('classif.svm', scale=FALSE, kernel='linear')  # linear,polynomial,radial,sigmoid\n",
    "model <- mlr::train(learner, train_task)\n",
    "pred_test <- predict(model, task=test_task)\n",
    "performance(pred_test, measures=acc)"
   ]
  }
 ],
 "metadata": {
  "kernelspec": {
   "display_name": "R",
   "language": "R",
   "name": "ir"
  },
  "language_info": {
   "codemirror_mode": "r",
   "file_extension": ".r",
   "mimetype": "text/x-r-source",
   "name": "R",
   "pygments_lexer": "r",
   "version": "3.6.1"
  }
 },
 "nbformat": 4,
 "nbformat_minor": 5
}
